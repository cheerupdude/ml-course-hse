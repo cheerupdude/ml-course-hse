{
 "cells": [
  {
   "cell_type": "markdown",
   "metadata": {},
   "source": [
    "# Лабораторная работа 1"
   ]
  },
  {
   "cell_type": "markdown",
   "metadata": {},
   "source": [
    "**ФИО:**\n",
    "\n",
    "**Группа:**"
   ]
  },
  {
   "cell_type": "markdown",
   "metadata": {},
   "source": [
    "## Общая информация\n",
    "\n",
    "Дата выдачи: **02.02.2016**\n",
    "\n",
    "Срок сдачи: **16.02.2016 23:59**MSK \n",
    "\n",
    "### О задании\n",
    "Целью лабораторная работа №1 является ознакомление с библиотеками NumPy и Pandas путём решения набора задач. В ходе задания предлагается редактировать данный ipython notebook (в части блоков с кодом на python) таким образом, чтобы были реализованы указанные в задании функции.\n",
    "\n",
    "### Оценивание и штрафы\n",
    "Максимально допустимая оценка за работу — 10 баллов.\n",
    "\n",
    "При сдаче задания после указанного срока начисляется **штраф -0.5 балла за каждый день просрочки**. При выставлении неполного балла за задание в связи с наличием ошибок на усмотрение проверяющего предусмотрена возможность исправить задание на указанных в ответном письме условиях.\n",
    "\n",
    "Задание выполняется **самостоятельно**. «Похожие» решения считаются плагиатом и все задействованные студенты (в том числе те, у кого списали) не могут получить за него больше 0 баллов (но могут меньше). Если вы нашли решение какого-то из заданий в открытом источнике, необходимо прислать ссылку на этот источник (чтобы исключить подозрение в плагиате). \n",
    "\n",
    "### Формат сдачи\n",
    "Для сдачи задания переименуйте получившийся файл \\*.ipynb в соответствии со следующим форматом: *Username_(group)_Lab1.ipynb*, где Username — ваша фамилия на латинице, group — название группы. (например, Petrov_IAD-19_Lab1.ipynb). Далее отправьте этот файл на используемую в Вашей группе почту курса (hse.minor.dm@gmail.com) c темой письма *[ИАД-NN] - Лабораторная работа 1 - Фамилия Имя Отчество*.\n",
    "\n",
    "Убедительная просьба сдавать задание **только 1 раз** (финальную версию).\n",
    "\n",
    "### Выполнение задания на виртуальной машине\n",
    "Если вы решите делать задание на виртуальной машине, для части с Pandas'ом можно не скачивать данные, а загрузить их из папки *data/2008.csv.bz2* (папка data находится в корне, совсем в корне). \n",
    "\n",
    "Также учтите, что ваш файл с заданием могут видеть все. Недоступность виртуальной машины не является уважительной причиной для продления дедлайна.\n",
    "\n",
    "Ввиду этого настоятельно советуем для выполнения задания поставить jupyter на свой рабочий компьютер."
   ]
  },
  {
   "cell_type": "markdown",
   "metadata": {},
   "source": [
    "## Numpy\n",
    "\n",
    "Для каждого из нижеприведенных пунктов следует \n",
    "\n",
    "*   Написать не менее двух вариантов кода различной эффективности. Должен быть как минимум один полностью векторизованный вариант (запрещается использовать циклы) и один вариант с использованием циклов (без векторизации)\n",
    "    \n",
    "*   Сравнить при помощи %timeit время работы каждого из вариантах на тестовых наборах разного размера (как минимум 3)\n",
    "    \n",
    "*   Проанализировать полученные данные о скорости работы разных реализаций (например, сделать таблицу/график)\n",
    "    \n",
    "*   Сделать выводы    "
   ]
  },
  {
   "cell_type": "code",
   "execution_count": null,
   "metadata": {
    "collapsed": false
   },
   "outputs": [],
   "source": [
    "import numpy as np\n",
    "import pandas as pd"
   ]
  },
  {
   "cell_type": "markdown",
   "metadata": {},
   "source": [
    "**1.** Даны числа N и k. Построить одномерный вектор np.array длины N, содержащий зацикленную последовательность от 1 до k (включительно). Например:\n",
    "    \n",
    "    print(cycle_vec(10, 3))\n",
    "    > array([1, 2, 3, 1, 2, 3, 1, 2, 3, 1])"
   ]
  },
  {
   "cell_type": "code",
   "execution_count": null,
   "metadata": {
    "collapsed": true
   },
   "outputs": [],
   "source": [
    "def cycle_vec(N, k):\n",
    "    return\n",
    "\n",
    "def cycle_nonvec(N, k):\n",
    "    return"
   ]
  },
  {
   "cell_type": "markdown",
   "metadata": {},
   "source": [
    "**2.** Дан вектор np.array длины N. Построить матрицу размера N + 1 x N + 1, у которой над главной даигональю стоят элементы массива (остальные элементы должны быть нулевыми). Например:\n",
    "    \n",
    "    print(next_diagonal_vec(np.arange(1, 3)))\n",
    "    > array([[0, 1, 0],\n",
    "             [0, 0, 2],\n",
    "             [0, 0, 0]])"
   ]
  },
  {
   "cell_type": "code",
   "execution_count": null,
   "metadata": {
    "collapsed": true
   },
   "outputs": [],
   "source": [
    "def next_diagonal_vec(X):\n",
    "    return\n",
    "\n",
    "def next_diagonal_nonvec(X):\n",
    "    return"
   ]
  },
  {
   "cell_type": "markdown",
   "metadata": {},
   "source": [
    "**3.** Дана матрица X и два вектора i и j одинаковой длины. Построить вектор np.array, состоящий из последовательности элементов [X[i[0], j[0]], X[i[1], j[1]], ..., X[i[N-1], j[N-1]]]."
   ]
  },
  {
   "cell_type": "code",
   "execution_count": null,
   "metadata": {
    "collapsed": false
   },
   "outputs": [],
   "source": [
    "def get_elements_vec(X, i, j):\n",
    "    return\n",
    "\n",
    "def get_elements_nonvec(X, i, j):\n",
    "    return"
   ]
  },
  {
   "cell_type": "markdown",
   "metadata": {},
   "source": [
    "**4.** Дан одномерный вектор X. Найти в X минимальный ненулевой элемент, перед которым стоит нулевой. Например:\n",
    "    \n",
    "    print(min_postzero_vec(np.array([3, 5, 2, 0, 0, 7, 0, 5, 3, 0])))\n",
    "    > 5"
   ]
  },
  {
   "cell_type": "code",
   "execution_count": null,
   "metadata": {
    "collapsed": true
   },
   "outputs": [],
   "source": [
    "def min_postzero_vec(X):\n",
    "    return\n",
    "\n",
    "def min_postzero_nonvec(X):\n",
    "    return"
   ]
  },
  {
   "cell_type": "markdown",
   "metadata": {},
   "source": [
    "**5.** Дана матрица и некоторое число. Найти ближайший (по величине) к числу элемент матрицы. Например:\n",
    "\n",
    "    X = np.arange(0,10)\n",
    "    v = 3.6\n",
    "    print(nearest_value_vec(X, v))\n",
    "    > 4"
   ]
  },
  {
   "cell_type": "code",
   "execution_count": null,
   "metadata": {
    "collapsed": false
   },
   "outputs": [],
   "source": [
    "def nearest_value_vec(X, v):\n",
    "    return\n",
    "\n",
    "def nearest_value_nonvec(X, v):\n",
    "    return"
   ]
  },
  {
   "cell_type": "markdown",
   "metadata": {},
   "source": [
    "**6.** Даны две выборки объектов X - np.array (N x D) и Y - np.array (M x D). Вычислить матрицу евклидовых расстояний между объектами"
   ]
  },
  {
   "cell_type": "code",
   "execution_count": null,
   "metadata": {
    "collapsed": true
   },
   "outputs": [],
   "source": [
    "def euclidean_vec(X, Y):\n",
    "    return\n",
    "\n",
    "def euclidean_nonvec(X, Y):\n",
    "    return"
   ]
  },
  {
   "cell_type": "markdown",
   "metadata": {},
   "source": [
    "**Пример работы %timeit**"
   ]
  },
  {
   "cell_type": "code",
   "execution_count": 8,
   "metadata": {
    "collapsed": false
   },
   "outputs": [
    {
     "name": "stdout",
     "output_type": "stream",
     "text": [
      "100 loops, best of 3: 5.01 ms per loop\n"
     ]
    }
   ],
   "source": [
    "def double_cycle(X, a, b):\n",
    "    Y = np.zeros((a, b))\n",
    "    N = X.shape[0]\n",
    "    for i in range(a):\n",
    "        for j in range(b):\n",
    "            Y[i, j] = X[(i*b + j) % N]\n",
    "    return Y\n",
    "\n",
    "%timeit double_cycle(np.arange(100, 2000), 10, 1500)"
   ]
  },
  {
   "cell_type": "markdown",
   "metadata": {},
   "source": [
    "## Pandas\n",
    "\n",
    "Ответьте на вопросы по данным об авиарейсах в США за январь-апрель 2008 года. В соответствующих блоках должен быть написан и выполнен программный код для получения ответов, ответы следует также вывести на экран.\n",
    "\n",
    "Загрузить данные можно здесь: http://stat-computing.org/dataexpo/2009/2008.csv.bz2 (обратите внимание, что распаковывать этот файл не обязательно — функция pandas.read_csv умеет читать из архивов автоматически)\n",
    "\n",
    "Описание датасета: http://stat-computing.org/dataexpo/2009/the-data.html"
   ]
  },
  {
   "cell_type": "markdown",
   "metadata": {},
   "source": [
    "**0.** Загрузите данные с помощью pandas в оперативную память."
   ]
  },
  {
   "cell_type": "code",
   "execution_count": null,
   "metadata": {
    "collapsed": true
   },
   "outputs": [],
   "source": []
  },
  {
   "cell_type": "markdown",
   "metadata": {},
   "source": [
    "**1.** Какая из причин отмены рейса (CancellationCode) была самой частой (расшифровки кодов можно найти в описании данных)? На какое максимальное время задерживали полет по этой причине?"
   ]
  },
  {
   "cell_type": "code",
   "execution_count": null,
   "metadata": {
    "collapsed": true
   },
   "outputs": [],
   "source": []
  },
  {
   "cell_type": "markdown",
   "metadata": {},
   "source": [
    "**2.** Каково среднее, минимальное и максимальное расстояние, пройденное самолетом?"
   ]
  },
  {
   "cell_type": "code",
   "execution_count": null,
   "metadata": {
    "collapsed": true
   },
   "outputs": [],
   "source": []
  },
  {
   "cell_type": "markdown",
   "metadata": {},
   "source": [
    "**3.** Не выглядит ли подозрительным минимальное пройденное расстояние? В какие дни и на каких рейсах оно было? Какое расстояние было пройдено этими же рейсами в другие дни?"
   ]
  },
  {
   "cell_type": "code",
   "execution_count": null,
   "metadata": {
    "collapsed": true
   },
   "outputs": [],
   "source": []
  },
  {
   "cell_type": "markdown",
   "metadata": {},
   "source": [
    "**4.** Из какого аэропорта было произведено больше всего вылетов? В каком городе он находится?"
   ]
  },
  {
   "cell_type": "code",
   "execution_count": null,
   "metadata": {
    "collapsed": true
   },
   "outputs": [],
   "source": []
  },
  {
   "cell_type": "markdown",
   "metadata": {},
   "source": [
    "**5.** Найдите для каждого аэропорта среднее время полета (AirTime) по всем вылетевшим из него рейсам. Какой аэропорт имеет наибольшее значение этого показателя?"
   ]
  },
  {
   "cell_type": "code",
   "execution_count": null,
   "metadata": {
    "collapsed": true
   },
   "outputs": [],
   "source": []
  },
  {
   "cell_type": "markdown",
   "metadata": {},
   "source": [
    "**6.** Найдите самое популярное направление и сколько рейсов по нему совершено. Ответом является тройка (Аэропорт отправления, аэропорт прибытия, количество рейсов)"
   ]
  },
  {
   "cell_type": "code",
   "execution_count": null,
   "metadata": {
    "collapsed": true
   },
   "outputs": [],
   "source": []
  },
  {
   "cell_type": "markdown",
   "metadata": {},
   "source": [
    "**7.** Найдите аэропорт, у которого наибольшая доля задержанных (DepDelay > 0) рейсов. Исключите при этом из рассмотрения аэропорты, из которых было отправлено меньше 500 рейсов (используйте функцию filter после groupby)."
   ]
  },
  {
   "cell_type": "code",
   "execution_count": null,
   "metadata": {
    "collapsed": true
   },
   "outputs": [],
   "source": []
  }
 ],
 "metadata": {
  "kernelspec": {
   "display_name": "Python 3",
   "language": "python",
   "name": "python3"
  },
  "language_info": {
   "codemirror_mode": {
    "name": "ipython",
    "version": 3
   },
   "file_extension": ".py",
   "mimetype": "text/x-python",
   "name": "python",
   "nbconvert_exporter": "python",
   "pygments_lexer": "ipython3",
   "version": "3.4.3"
  }
 },
 "nbformat": 4,
 "nbformat_minor": 0
}
